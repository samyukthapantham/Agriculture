{
 "cells": [
  {
   "cell_type": "markdown",
   "metadata": {},
   "source": [
    "## Importing the Required Libraries"
   ]
  },
  {
   "cell_type": "code",
   "execution_count": 20,
   "metadata": {},
   "outputs": [],
   "source": [
    "# for data manipulations\n",
    "import numpy as np\n",
    "import pandas as pd\n",
    "\n",
    "# for data visualizations\n",
    "import matplotlib.pyplot as plt\n",
    "import seaborn as sns\n",
    "\n",
    "# for interactivity\n",
    "#import ipywidgets\n",
    "from ipywidgets import interact"
   ]
  },
  {
   "cell_type": "markdown",
   "metadata": {},
   "source": [
    "## Reading the Dataset"
   ]
  },
  {
   "cell_type": "code",
   "execution_count": 21,
   "metadata": {},
   "outputs": [
    {
     "name": "stdout",
     "output_type": "stream",
     "text": [
      "Shape of the dataset ::: (2200, 8)\n"
     ]
    }
   ],
   "source": [
    "# lets read the dataset\n",
    "data=pd.read_csv(\"data.csv\")\n",
    "\n",
    "# lets check the shape of the dataset\n",
    "print(\"Shape of the dataset :::\",data.shape)\n"
   ]
  },
  {
   "cell_type": "code",
   "execution_count": 22,
   "metadata": {},
   "outputs": [
    {
     "data": {
      "text/html": [
       "<div>\n",
       "<style scoped>\n",
       "    .dataframe tbody tr th:only-of-type {\n",
       "        vertical-align: middle;\n",
       "    }\n",
       "\n",
       "    .dataframe tbody tr th {\n",
       "        vertical-align: top;\n",
       "    }\n",
       "\n",
       "    .dataframe thead th {\n",
       "        text-align: right;\n",
       "    }\n",
       "</style>\n",
       "<table border=\"1\" class=\"dataframe\">\n",
       "  <thead>\n",
       "    <tr style=\"text-align: right;\">\n",
       "      <th></th>\n",
       "      <th>N</th>\n",
       "      <th>P</th>\n",
       "      <th>K</th>\n",
       "      <th>temperature</th>\n",
       "      <th>humidity</th>\n",
       "      <th>ph</th>\n",
       "      <th>rainfall</th>\n",
       "      <th>label</th>\n",
       "    </tr>\n",
       "  </thead>\n",
       "  <tbody>\n",
       "    <tr>\n",
       "      <th>0</th>\n",
       "      <td>90</td>\n",
       "      <td>42</td>\n",
       "      <td>43</td>\n",
       "      <td>20.879744</td>\n",
       "      <td>82.002744</td>\n",
       "      <td>6.502985</td>\n",
       "      <td>202.935536</td>\n",
       "      <td>rice</td>\n",
       "    </tr>\n",
       "    <tr>\n",
       "      <th>1</th>\n",
       "      <td>85</td>\n",
       "      <td>58</td>\n",
       "      <td>41</td>\n",
       "      <td>21.770462</td>\n",
       "      <td>80.319644</td>\n",
       "      <td>7.038096</td>\n",
       "      <td>226.655537</td>\n",
       "      <td>rice</td>\n",
       "    </tr>\n",
       "    <tr>\n",
       "      <th>2</th>\n",
       "      <td>60</td>\n",
       "      <td>55</td>\n",
       "      <td>44</td>\n",
       "      <td>23.004459</td>\n",
       "      <td>82.320763</td>\n",
       "      <td>7.840207</td>\n",
       "      <td>263.964248</td>\n",
       "      <td>rice</td>\n",
       "    </tr>\n",
       "    <tr>\n",
       "      <th>3</th>\n",
       "      <td>74</td>\n",
       "      <td>35</td>\n",
       "      <td>40</td>\n",
       "      <td>26.491096</td>\n",
       "      <td>80.158363</td>\n",
       "      <td>6.980401</td>\n",
       "      <td>242.864034</td>\n",
       "      <td>rice</td>\n",
       "    </tr>\n",
       "    <tr>\n",
       "      <th>4</th>\n",
       "      <td>78</td>\n",
       "      <td>42</td>\n",
       "      <td>42</td>\n",
       "      <td>20.130175</td>\n",
       "      <td>81.604873</td>\n",
       "      <td>7.628473</td>\n",
       "      <td>262.717340</td>\n",
       "      <td>rice</td>\n",
       "    </tr>\n",
       "  </tbody>\n",
       "</table>\n",
       "</div>"
      ],
      "text/plain": [
       "    N   P   K  temperature   humidity        ph    rainfall label\n",
       "0  90  42  43    20.879744  82.002744  6.502985  202.935536  rice\n",
       "1  85  58  41    21.770462  80.319644  7.038096  226.655537  rice\n",
       "2  60  55  44    23.004459  82.320763  7.840207  263.964248  rice\n",
       "3  74  35  40    26.491096  80.158363  6.980401  242.864034  rice\n",
       "4  78  42  42    20.130175  81.604873  7.628473  262.717340  rice"
      ]
     },
     "execution_count": 22,
     "metadata": {},
     "output_type": "execute_result"
    }
   ],
   "source": [
    "# lets see the head of the dataset\n",
    "data.head()\n"
   ]
  },
  {
   "cell_type": "code",
   "execution_count": 23,
   "metadata": {},
   "outputs": [
    {
     "data": {
      "text/html": [
       "<div>\n",
       "<style scoped>\n",
       "    .dataframe tbody tr th:only-of-type {\n",
       "        vertical-align: middle;\n",
       "    }\n",
       "\n",
       "    .dataframe tbody tr th {\n",
       "        vertical-align: top;\n",
       "    }\n",
       "\n",
       "    .dataframe thead th {\n",
       "        text-align: right;\n",
       "    }\n",
       "</style>\n",
       "<table border=\"1\" class=\"dataframe\">\n",
       "  <thead>\n",
       "    <tr style=\"text-align: right;\">\n",
       "      <th></th>\n",
       "      <th>N</th>\n",
       "      <th>P</th>\n",
       "      <th>K</th>\n",
       "      <th>temperature</th>\n",
       "      <th>humidity</th>\n",
       "      <th>ph</th>\n",
       "      <th>rainfall</th>\n",
       "      <th>label</th>\n",
       "    </tr>\n",
       "  </thead>\n",
       "  <tbody>\n",
       "    <tr>\n",
       "      <th>2195</th>\n",
       "      <td>107</td>\n",
       "      <td>34</td>\n",
       "      <td>32</td>\n",
       "      <td>26.774637</td>\n",
       "      <td>66.413269</td>\n",
       "      <td>6.780064</td>\n",
       "      <td>177.774507</td>\n",
       "      <td>coffee</td>\n",
       "    </tr>\n",
       "    <tr>\n",
       "      <th>2196</th>\n",
       "      <td>99</td>\n",
       "      <td>15</td>\n",
       "      <td>27</td>\n",
       "      <td>27.417112</td>\n",
       "      <td>56.636362</td>\n",
       "      <td>6.086922</td>\n",
       "      <td>127.924610</td>\n",
       "      <td>coffee</td>\n",
       "    </tr>\n",
       "    <tr>\n",
       "      <th>2197</th>\n",
       "      <td>118</td>\n",
       "      <td>33</td>\n",
       "      <td>30</td>\n",
       "      <td>24.131797</td>\n",
       "      <td>67.225123</td>\n",
       "      <td>6.362608</td>\n",
       "      <td>173.322839</td>\n",
       "      <td>coffee</td>\n",
       "    </tr>\n",
       "    <tr>\n",
       "      <th>2198</th>\n",
       "      <td>117</td>\n",
       "      <td>32</td>\n",
       "      <td>34</td>\n",
       "      <td>26.272418</td>\n",
       "      <td>52.127394</td>\n",
       "      <td>6.758793</td>\n",
       "      <td>127.175293</td>\n",
       "      <td>coffee</td>\n",
       "    </tr>\n",
       "    <tr>\n",
       "      <th>2199</th>\n",
       "      <td>104</td>\n",
       "      <td>18</td>\n",
       "      <td>30</td>\n",
       "      <td>23.603016</td>\n",
       "      <td>60.396475</td>\n",
       "      <td>6.779833</td>\n",
       "      <td>140.937041</td>\n",
       "      <td>coffee</td>\n",
       "    </tr>\n",
       "  </tbody>\n",
       "</table>\n",
       "</div>"
      ],
      "text/plain": [
       "        N   P   K  temperature   humidity        ph    rainfall   label\n",
       "2195  107  34  32    26.774637  66.413269  6.780064  177.774507  coffee\n",
       "2196   99  15  27    27.417112  56.636362  6.086922  127.924610  coffee\n",
       "2197  118  33  30    24.131797  67.225123  6.362608  173.322839  coffee\n",
       "2198  117  32  34    26.272418  52.127394  6.758793  127.175293  coffee\n",
       "2199  104  18  30    23.603016  60.396475  6.779833  140.937041  coffee"
      ]
     },
     "execution_count": 23,
     "metadata": {},
     "output_type": "execute_result"
    }
   ],
   "source": [
    "# lets see the tail(end) of the dataset\n",
    "data.tail()"
   ]
  },
  {
   "cell_type": "markdown",
   "metadata": {},
   "source": [
    "## Description for each of the columns in the Dataset\n",
    "\n",
    "N - ratio of Nitrogen content in soil;\n",
    "P - ratio of Phosphorous content in soil;\n",
    "K - ratio of Potassium content in soil;\n",
    "temperature - temperature in degree Celsius;\n",
    "humidity - relative humidity in %;\n",
    "ph - ph value of the soil;\n",
    "rainfall - rainfall in mm;"
   ]
  },
  {
   "cell_type": "code",
   "execution_count": 24,
   "metadata": {},
   "outputs": [
    {
     "data": {
      "text/plain": [
       "N              0\n",
       "P              0\n",
       "K              0\n",
       "temperature    0\n",
       "humidity       0\n",
       "ph             0\n",
       "rainfall       0\n",
       "label          0\n",
       "dtype: int64"
      ]
     },
     "execution_count": 24,
     "metadata": {},
     "output_type": "execute_result"
    }
   ],
   "source": [
    "#  checking if there is any missing value present in the dataset\n",
    "data.isnull().sum()"
   ]
  },
  {
   "cell_type": "code",
   "execution_count": 25,
   "metadata": {},
   "outputs": [
    {
     "data": {
      "text/plain": [
       "papaya         100\n",
       "coffee         100\n",
       "pomegranate    100\n",
       "muskmelon      100\n",
       "maize          100\n",
       "orange         100\n",
       "grapes         100\n",
       "cotton         100\n",
       "watermelon     100\n",
       "coconut        100\n",
       "rice           100\n",
       "blackgram      100\n",
       "kidneybeans    100\n",
       "apple          100\n",
       "pigeonpeas     100\n",
       "banana         100\n",
       "mango          100\n",
       "chickpea       100\n",
       "lentil         100\n",
       "mothbeans      100\n",
       "mungbean       100\n",
       "jute           100\n",
       "Name: label, dtype: int64"
      ]
     },
     "execution_count": 25,
     "metadata": {},
     "output_type": "execute_result"
    }
   ],
   "source": [
    "# lets see the Crops present in this Dataset\n",
    "data['label'].value_counts()"
   ]
  },
  {
   "cell_type": "markdown",
   "metadata": {},
   "source": [
    "## Descriptive Statistics"
   ]
  },
  {
   "cell_type": "code",
   "execution_count": 26,
   "metadata": {},
   "outputs": [
    {
     "name": "stdout",
     "output_type": "stream",
     "text": [
      "average ratio of NITROGEN in the soil :50.6\n",
      "average ratio of PHOSPHOROUS in the soil: 53.4\n",
      "average ratio of POTASSIUM in the soil: 48.1\n",
      "average value of TEMPERATURE in the celsius :25.6\n",
      "average value of HUMIDITY in the % :71.5\n",
      "average value of PH VALUE of the soil: 6.5\n",
      "average value of RAINFALL in mm : 103.5\n"
     ]
    }
   ],
   "source": [
    "# lets check the Average value of each feature for all the crops\n",
    "print(\"average ratio of NITROGEN in the soil :{0:.1f}\".format(data['N'].mean()))\n",
    "print(\"average ratio of PHOSPHOROUS in the soil: {0:.1f}\".format(data['P'].mean()))\n",
    "print(\"average ratio of POTASSIUM in the soil: {0:.1f}\".format(data['K'].mean()))\n",
    "print(\"average value of TEMPERATURE in the celsius :{0:.1f}\".format(data['temperature'].mean()))\n",
    "print(\"average value of HUMIDITY in the % :{0:.1f}\".format(data['humidity'].mean()))\n",
    "print(\"average value of PH VALUE of the soil: {0:.1f}\".format(data['ph'].mean()))\n",
    "print(\"average value of RAINFALL in mm : {0:.1f}\".format(data['rainfall'].mean()))"
   ]
  },
  {
   "cell_type": "code",
   "execution_count": 27,
   "metadata": {},
   "outputs": [
    {
     "data": {
      "application/vnd.jupyter.widget-view+json": {
       "model_id": "1aa49ed05f964811a72d0e63c5156662",
       "version_major": 2,
       "version_minor": 0
      },
      "text/plain": [
       "interactive(children=(Dropdown(description='crop', options=('papaya', 'coffee', 'pomegranate', 'muskmelon', 'm…"
      ]
     },
     "metadata": {},
     "output_type": "display_data"
    }
   ],
   "source": [
    "# lets check the Summary Statistics for each of the Crops in an interactive way\n",
    "@interact\n",
    "def summaryofcrops(crop=list(data['label'].value_counts().index)):\n",
    "    x = data[data['label'] == crop]\n",
    "    print(\"SUMMARY STATISTICS OF THE CROP:::\",crop)\n",
    "    print(\"---------------------------------------------\")\n",
    "    print(\"Statistics for Nitrogen\")\n",
    "    print(\"Minimum Nitrigen required :\", x['N'].min())\n",
    "    print(\"Average Nitrogen required :\", x['N'].mean())\n",
    "    print(\"Maximum Nitrogen required :\", x['N'].max()) \n",
    "    print(\"---------------------------------------------\")\n",
    "    print(\"Statistics for Phosphorous\")\n",
    "    print(\"Minimum Phosphorous required :\", x['P'].min())\n",
    "    print(\"Average Phosphorous required :\", x['P'].mean())\n",
    "    print(\"Maximum Phosphorous required :\", x['P'].max()) \n",
    "    print(\"---------------------------------------------\")\n",
    "    print(\"Statistics for Potassium\")\n",
    "    print(\"Minimum Potassium required :\", x['K'].min())\n",
    "    print(\"Average Potassium required :\", x['K'].mean())\n",
    "    print(\"Maximum Potassium required :\", x['K'].max()) \n",
    "    print(\"---------------------------------------------\")\n",
    "    print(\"Statistics for Temperature\")\n",
    "    print(\"Minimum Temperature required : {0:.2f}\".format(x['temperature'].min()))\n",
    "    print(\"Average Temperature required : {0:.2f}\".format(x['temperature'].mean()))\n",
    "    print(\"Maximum Temperature required : {0:.2f}\".format(x['temperature'].max()))\n",
    "    print(\"---------------------------------------------\")\n",
    "    print(\"Statistics for Humidity\")\n",
    "    print(\"Minimum Humidity required : {0:.2f}\".format(x['humidity'].min()))\n",
    "    print(\"Average Humidity required : {0:.2f}\".format(x['humidity'].mean()))\n",
    "    print(\"Maximum Humidity required : {0:.2f}\".format(x['humidity'].max()))\n",
    "    print(\"---------------------------------------------\")\n",
    "    print(\"Statistics for PH\")\n",
    "    print(\"Minimum PH required : {0:.2f}\".format(x['ph'].min()))\n",
    "    print(\"Average PH required : {0:.2f}\".format(x['ph'].mean()))\n",
    "    print(\"Maximum PH required : {0:.2f}\".format(x['ph'].max()))\n",
    "    print(\"---------------------------------------------\")\n",
    "    print(\"Statistics for Rainfall\")\n",
    "    print(\"Minimum Rainfall required : {0:.2f}\".format(x['rainfall'].min()))\n",
    "    print(\"Average Rainfall required : {0:.2f}\".format(x['rainfall'].mean()))\n",
    "    print(\"Maximum Rainfall required : {0:.2f}\".format(x['rainfall'].max()))"
   ]
  },
  {
   "cell_type": "markdown",
   "metadata": {},
   "source": [
    "## Analyzing Agricultural Conditions"
   ]
  },
  {
   "cell_type": "code",
   "execution_count": 28,
   "metadata": {
    "scrolled": true
   },
   "outputs": [
    {
     "name": "stderr",
     "output_type": "stream",
     "text": [
      "c:\\users\\sandeep\\appdata\\local\\programs\\python\\python39\\lib\\site-packages\\seaborn\\distributions.py:2557: FutureWarning: `distplot` is a deprecated function and will be removed in a future version. Please adapt your code to use either `displot` (a figure-level function with similar flexibility) or `histplot` (an axes-level function for histograms).\n",
      "  warnings.warn(msg, FutureWarning)\n",
      "c:\\users\\sandeep\\appdata\\local\\programs\\python\\python39\\lib\\site-packages\\seaborn\\distributions.py:2557: FutureWarning: `distplot` is a deprecated function and will be removed in a future version. Please adapt your code to use either `displot` (a figure-level function with similar flexibility) or `histplot` (an axes-level function for histograms).\n",
      "  warnings.warn(msg, FutureWarning)\n",
      "c:\\users\\sandeep\\appdata\\local\\programs\\python\\python39\\lib\\site-packages\\seaborn\\distributions.py:2557: FutureWarning: `distplot` is a deprecated function and will be removed in a future version. Please adapt your code to use either `displot` (a figure-level function with similar flexibility) or `histplot` (an axes-level function for histograms).\n",
      "  warnings.warn(msg, FutureWarning)\n",
      "c:\\users\\sandeep\\appdata\\local\\programs\\python\\python39\\lib\\site-packages\\seaborn\\distributions.py:2557: FutureWarning: `distplot` is a deprecated function and will be removed in a future version. Please adapt your code to use either `displot` (a figure-level function with similar flexibility) or `histplot` (an axes-level function for histograms).\n",
      "  warnings.warn(msg, FutureWarning)\n",
      "c:\\users\\sandeep\\appdata\\local\\programs\\python\\python39\\lib\\site-packages\\seaborn\\distributions.py:2557: FutureWarning: `distplot` is a deprecated function and will be removed in a future version. Please adapt your code to use either `displot` (a figure-level function with similar flexibility) or `histplot` (an axes-level function for histograms).\n",
      "  warnings.warn(msg, FutureWarning)\n",
      "c:\\users\\sandeep\\appdata\\local\\programs\\python\\python39\\lib\\site-packages\\seaborn\\distributions.py:2557: FutureWarning: `distplot` is a deprecated function and will be removed in a future version. Please adapt your code to use either `displot` (a figure-level function with similar flexibility) or `histplot` (an axes-level function for histograms).\n",
      "  warnings.warn(msg, FutureWarning)\n",
      "c:\\users\\sandeep\\appdata\\local\\programs\\python\\python39\\lib\\site-packages\\seaborn\\distributions.py:2557: FutureWarning: `distplot` is a deprecated function and will be removed in a future version. Please adapt your code to use either `displot` (a figure-level function with similar flexibility) or `histplot` (an axes-level function for histograms).\n",
      "  warnings.warn(msg, FutureWarning)\n"
     ]
    },
    {
     "data": {
      "image/png": "[encoded data removed]",
      "text/plain": [
       "<Figure size 1080x504 with 7 Axes>"
      ]
     },
     "metadata": {},
     "output_type": "display_data"
    }
   ],
   "source": [
    "#Lets analize the distribution of Agricultural Conditions\n",
    "#plt.rcParams['figure.figsize'] = (15, 7)\n",
    "\n",
    "plt.subplot(2, 4, 1)\n",
    "sns.distplot(data['N'], color = 'lightgrey')\n",
    "plt.xlabel('Ratio of Nitrogen', fontsize = 12)\n",
    "#plt.ylabel('density', fontsize=12)\n",
    "plt.grid()\n",
    "\n",
    "plt.subplot(2, 4, 2)\n",
    "sns.distplot(data['P'], color = 'skyblue')\n",
    "plt.xlabel('Ratio of Phosphorous', fontsize = 12)\n",
    "plt.grid()\n",
    "\n",
    "plt.subplot(2, 4, 3)\n",
    "sns.distplot(data['K'], color ='darkblue')\n",
    "plt.xlabel('Ratio of Potassium', fontsize = 12)\n",
    "plt.grid()\n",
    "\n",
    "plt.subplot(2, 4, 4)\n",
    "sns.distplot(data['temperature'], color = 'black')\n",
    "plt.xlabel('Temperature', fontsize = 12)\n",
    "plt.grid()\n",
    "\n",
    "plt.subplot(2, 4, 5)\n",
    "sns.distplot(data['rainfall'], color = 'grey')\n",
    "plt.xlabel('Rainfall', fontsize = 12)\n",
    "plt.grid()\n",
    "\n",
    "plt.subplot(2, 4, 6)\n",
    "sns.distplot(data['humidity'], color = 'lightgreen')\n",
    "plt.xlabel('Humidity', fontsize = 12)\n",
    "plt.grid()\n",
    "\n",
    "plt.subplot(2, 4, 7)\n",
    "sns.distplot(data['ph'], color = 'darkgreen')\n",
    "plt.xlabel('pH Level', fontsize = 12)\n",
    "plt.grid()\n",
    "\n",
    "plt.suptitle('Distribution for Agricultural Conditions', fontsize = 20)\n",
    "plt.show()\n"
   ]
  },
  {
   "cell_type": "code",
   "execution_count": 29,
   "metadata": {},
   "outputs": [
    {
     "name": "stdout",
     "output_type": "stream",
     "text": [
      "Crops which requires very High Ratio of Nitrogen Content in Soil: ['cotton']\n",
      "Crops which requires very High Ratio of Phosphorous Content in Soil: ['grapes' 'apple']\n",
      "Crops which requires very High Ratio of Potassium Content in Soil: ['grapes' 'apple']\n",
      "Crops which requires very High Rainfall: ['rice' 'papaya' 'coconut']\n",
      "Crops which requires very Low Temperature : ['grapes']\n",
      "Crops which requires very High Temperature : ['grapes' 'papaya']\n",
      "Crops which requires very Low Humidity: ['chickpea' 'kidneybeans']\n",
      "Crops which requires very Low pH: ['mothbeans']\n",
      "Crops which requires very High pH: ['mothbeans']\n"
     ]
    }
   ],
   "source": [
    "## Lets find out some Interesting Facts\n",
    "print(\"Crops which requires very High Ratio of Nitrogen Content in Soil:\", data[data['N'] > 120]['label'].unique())\n",
    "print(\"Crops which requires very High Ratio of Phosphorous Content in Soil:\", data[data['P'] > 100]['label'].unique())\n",
    "print(\"Crops which requires very High Ratio of Potassium Content in Soil:\", data[data['K'] > 200]['label'].unique())\n",
    "print(\"Crops which requires very High Rainfall:\", data[data['rainfall'] > 200]['label'].unique())\n",
    "print(\"Crops which requires very Low Temperature :\", data[data['temperature'] < 10]['label'].unique())\n",
    "print(\"Crops which requires very High Temperature :\", data[data['temperature'] > 40]['label'].unique())\n",
    "print(\"Crops which requires very Low Humidity:\", data[data['humidity'] < 20]['label'].unique())\n",
    "print(\"Crops which requires very Low pH:\", data[data['ph'] < 4]['label'].unique())\n",
    "print(\"Crops which requires very High pH:\", data[data['ph'] > 9]['label'].unique())"
   ]
  },
  {
   "cell_type": "code",
   "execution_count": 30,
   "metadata": {},
   "outputs": [
    {
     "name": "stdout",
     "output_type": "stream",
     "text": [
      "Summer Crops:\n",
      "['pigeonpeas' 'mothbeans' 'blackgram' 'mango' 'grapes' 'orange' 'papaya']\n",
      "-----------------------------------\n",
      "Winter Crops:\n",
      "['maize' 'pigeonpeas' 'lentil' 'pomegranate' 'grapes' 'orange']\n",
      "-----------------------------------\n",
      "Rainy Crops:\n",
      "['rice' 'papaya' 'coconut']\n"
     ]
    }
   ],
   "source": [
    "### Lets find out which crops can only be Grown in Summer Season, Winter Season and Rainy Season\n",
    "print(\"Summer Crops:\")\n",
    "print(data[(data['temperature'] > 30) & (data['humidity'] > 50)]['label'].unique())\n",
    "print(\"-----------------------------------\")\n",
    "print(\"Winter Crops:\")\n",
    "print(data[(data['temperature'] < 20) & (data['humidity'] > 30)]['label'].unique())\n",
    "print(\"-----------------------------------\")\n",
    "print(\"Rainy Crops:\")\n",
    "print(data[(data['rainfall'] > 200) & (data['humidity'] > 30)]['label'].unique())"
   ]
  },
  {
   "cell_type": "markdown",
   "metadata": {},
   "source": [
    "## Predictive modelling"
   ]
  },
  {
   "cell_type": "code",
   "execution_count": 32,
   "metadata": {},
   "outputs": [],
   "source": [
    "# lets split the Dataset into \"features\" and \"labels\" for Predictive Modelling\n",
    "data1=data.drop(['label'],axis=1)\n",
    "target=data['label']\n"
   ]
  },
  {
   "cell_type": "code",
   "execution_count": 33,
   "metadata": {},
   "outputs": [
    {
     "name": "stdout",
     "output_type": "stream",
     "text": [
      "shape of features: (2200, 7)\n",
      "shape of label (2200,)\n"
     ]
    }
   ],
   "source": [
    "#lets find shape of features and labels\n",
    "print(\"shape of features:\",data1.shape)\n",
    "print(\"shape of label\",target.shape)"
   ]
  },
  {
   "cell_type": "code",
   "execution_count": 34,
   "metadata": {},
   "outputs": [],
   "source": [
    "# lets create Training and Testing Sets for Validation of Results\n",
    "from sklearn.model_selection import train_test_split\n",
    "train_data1,test_data1,train_target,test_target=train_test_split(data1,target,test_size=0.2)"
   ]
  },
  {
   "cell_type": "code",
   "execution_count": 35,
   "metadata": {},
   "outputs": [
    {
     "name": "stdout",
     "output_type": "stream",
     "text": [
      "shape of train_data: (1760, 7)\n",
      "shape of test_data1: (440, 7)\n",
      "shape of train_target: (1760,)\n",
      "shape of test_target: (440,)\n"
     ]
    }
   ],
   "source": [
    "# lets see how the data is splitted into seperate sets\n",
    "print(\"shape of train_data:\",train_data1.shape)\n",
    "print(\"shape of test_data1:\",test_data1.shape)\n",
    "print(\"shape of train_target:\",train_target.shape)\n",
    "print(\"shape of test_target:\",test_target.shape)"
   ]
  },
  {
   "cell_type": "markdown",
   "metadata": {},
   "source": [
    "#### Here we don't know which Algorithm is best fit for our problem.So I created two models by using two different Algorithms and trained with same data sets .which Algorithm provides greater accuracy of predicting the labels in most of the cases, is considered as best fit for our problem statement."
   ]
  },
  {
   "cell_type": "code",
   "execution_count": 37,
   "metadata": {},
   "outputs": [
    {
     "name": "stderr",
     "output_type": "stream",
     "text": [
      "c:\\users\\sandeep\\appdata\\local\\programs\\python\\python39\\lib\\site-packages\\sklearn\\linear_model\\_logistic.py:763: ConvergenceWarning: lbfgs failed to converge (status=1):\n",
      "STOP: TOTAL NO. of ITERATIONS REACHED LIMIT.\n",
      "\n",
      "Increase the number of iterations (max_iter) or scale the data as shown in:\n",
      "    https://scikit-learn.org/stable/modules/preprocessing.html\n",
      "Please also refer to the documentation for alternative solver options:\n",
      "    https://scikit-learn.org/stable/modules/linear_model.html#logistic-regression\n",
      "  n_iter_i = _check_optimize_result(\n"
     ]
    }
   ],
   "source": [
    "# lets Create and train Predictive Models by providing example data\n",
    "from sklearn.linear_model import LogisticRegression\n",
    "from sklearn.neighbors import KNeighborsClassifier\n",
    "model_1=KNeighborsClassifier()\n",
    "model_2=LogisticRegression()\n",
    "model_1.fit(train_data1,train_target)\n",
    "model_2.fit(train_data1,train_target)\n",
    "target_prediction_1=model_1.predict(test_data1)\n",
    "target_prediction_2=model_2.predict(test_data1)"
   ]
  },
  {
   "cell_type": "code",
   "execution_count": 38,
   "metadata": {},
   "outputs": [
    {
     "name": "stdout",
     "output_type": "stream",
     "text": [
      "       N    P    K  temperature   humidity        ph    rainfall\n",
      "1285   6  128  200    25.963084  82.578136  5.838748   70.317826\n",
      "259   20   79   77    18.549886  16.025427  7.648675   76.325652\n",
      "1118  14   18   30    29.807472  52.137979  5.191265   95.746061\n",
      "1708  38   68   54    29.337105  90.817814  6.739170  202.057275\n",
      "1119  40   16   35    34.164389  54.164823  4.954740   98.333511\n",
      "...   ..  ...  ...          ...        ...       ...         ...\n",
      "1264  15  140  195    13.285043  83.541938  5.699453   65.800060\n",
      "1885  30   13   25    27.151161  91.488895  6.413185  164.918223\n",
      "1415  95   27   55    28.472126  91.213221  6.160414   20.886204\n",
      "679   31   40   22    29.408894  86.160635  6.365514   53.354870\n",
      "464   36   80   21    33.647696  48.414901  7.066087  100.467328\n",
      "\n",
      "[440 rows x 7 columns]\n"
     ]
    }
   ],
   "source": [
    "print(test_data1)"
   ]
  },
  {
   "cell_type": "code",
   "execution_count": 39,
   "metadata": {
    "scrolled": true
   },
   "outputs": [
    {
     "name": "stdout",
     "output_type": "stream",
     "text": [
      "['grapes' 'chickpea' 'mango' 'papaya' 'mango' 'mungbean' 'maize' 'cotton'\n",
      " 'apple' 'mothbeans' 'watermelon' 'rice' 'mungbean' 'cotton' 'rice'\n",
      " 'kidneybeans' 'chickpea' 'mungbean' 'kidneybeans' 'cotton' 'coffee'\n",
      " 'muskmelon' 'pigeonpeas' 'mango' 'coconut' 'mothbeans' 'lentil' 'rice'\n",
      " 'apple' 'banana' 'blackgram' 'jute' 'rice' 'watermelon' 'coffee' 'grapes'\n",
      " 'chickpea' 'kidneybeans' 'lentil' 'watermelon' 'watermelon' 'mothbeans'\n",
      " 'watermelon' 'maize' 'cotton' 'grapes' 'watermelon' 'grapes' 'orange'\n",
      " 'kidneybeans' 'mango' 'lentil' 'jute' 'muskmelon' 'banana' 'rice'\n",
      " 'grapes' 'orange' 'papaya' 'pigeonpeas' 'pomegranate' 'coffee' 'chickpea'\n",
      " 'rice' 'mungbean' 'apple' 'lentil' 'kidneybeans' 'mango' 'chickpea'\n",
      " 'mothbeans' 'kidneybeans' 'papaya' 'banana' 'watermelon' 'orange'\n",
      " 'mothbeans' 'jute' 'mango' 'kidneybeans' 'pomegranate' 'pomegranate'\n",
      " 'mango' 'orange' 'kidneybeans' 'apple' 'mungbean' 'pomegranate' 'papaya'\n",
      " 'blackgram' 'apple' 'mango' 'grapes' 'muskmelon' 'mango' 'muskmelon'\n",
      " 'blackgram' 'mango' 'mungbean' 'mango' 'rice' 'apple' 'grapes'\n",
      " 'pomegranate' 'coconut' 'mungbean' 'pomegranate' 'watermelon' 'orange'\n",
      " 'mungbean' 'jute' 'coffee' 'watermelon' 'jute' 'grapes' 'maize' 'grapes'\n",
      " 'pigeonpeas' 'rice' 'coffee' 'coconut' 'mango' 'watermelon' 'coconut'\n",
      " 'orange' 'rice' 'coconut' 'pomegranate' 'muskmelon' 'watermelon' 'cotton'\n",
      " 'papaya' 'lentil' 'cotton' 'coconut' 'apple' 'watermelon' 'mothbeans'\n",
      " 'apple' 'jute' 'maize' 'grapes' 'maize' 'kidneybeans' 'mothbeans'\n",
      " 'cotton' 'rice' 'banana' 'watermelon' 'maize' 'chickpea' 'watermelon'\n",
      " 'lentil' 'mango' 'mothbeans' 'mungbean' 'chickpea' 'lentil' 'pigeonpeas'\n",
      " 'rice' 'rice' 'blackgram' 'papaya' 'rice' 'orange' 'orange' 'banana'\n",
      " 'coconut' 'mango' 'maize' 'muskmelon' 'pomegranate' 'blackgram' 'apple'\n",
      " 'mango' 'apple' 'grapes' 'watermelon' 'orange' 'lentil' 'watermelon'\n",
      " 'muskmelon' 'kidneybeans' 'blackgram' 'lentil' 'kidneybeans' 'coffee'\n",
      " 'blackgram' 'orange' 'coconut' 'papaya' 'mungbean' 'papaya' 'mango'\n",
      " 'blackgram' 'coffee' 'chickpea' 'mango' 'orange' 'jute' 'orange'\n",
      " 'mungbean' 'maize' 'grapes' 'muskmelon' 'mothbeans' 'coffee' 'banana'\n",
      " 'pigeonpeas' 'mungbean' 'mothbeans' 'muskmelon' 'pomegranate' 'jute'\n",
      " 'orange' 'watermelon' 'pigeonpeas' 'chickpea' 'orange' 'lentil'\n",
      " 'mungbean' 'mothbeans' 'coffee' 'muskmelon' 'kidneybeans' 'lentil' 'jute'\n",
      " 'mungbean' 'jute' 'papaya' 'papaya' 'chickpea' 'pomegranate' 'coconut'\n",
      " 'rice' 'rice' 'lentil' 'mango' 'rice' 'pomegranate' 'pigeonpeas' 'rice'\n",
      " 'mothbeans' 'blackgram' 'blackgram' 'mungbean' 'pigeonpeas' 'jute'\n",
      " 'pigeonpeas' 'kidneybeans' 'lentil' 'maize' 'grapes' 'chickpea'\n",
      " 'mungbean' 'kidneybeans' 'rice' 'kidneybeans' 'grapes' 'grapes' 'orange'\n",
      " 'jute' 'rice' 'kidneybeans' 'jute' 'kidneybeans' 'maize' 'coconut'\n",
      " 'mango' 'apple' 'coffee' 'muskmelon' 'chickpea' 'blackgram' 'watermelon'\n",
      " 'muskmelon' 'banana' 'pomegranate' 'jute' 'pigeonpeas' 'cotton' 'lentil'\n",
      " 'jute' 'maize' 'kidneybeans' 'apple' 'muskmelon' 'coffee' 'mothbeans'\n",
      " 'blackgram' 'cotton' 'jute' 'maize' 'watermelon' 'pigeonpeas'\n",
      " 'watermelon' 'grapes' 'rice' 'rice' 'lentil' 'orange' 'mango' 'banana'\n",
      " 'kidneybeans' 'mothbeans' 'jute' 'orange' 'cotton' 'kidneybeans'\n",
      " 'mothbeans' 'coffee' 'chickpea' 'cotton' 'banana' 'mango' 'kidneybeans'\n",
      " 'coconut' 'apple' 'coconut' 'mango' 'chickpea' 'watermelon' 'mango'\n",
      " 'banana' 'pomegranate' 'muskmelon' 'orange' 'pigeonpeas' 'muskmelon'\n",
      " 'lentil' 'kidneybeans' 'apple' 'pigeonpeas' 'kidneybeans' 'banana'\n",
      " 'papaya' 'coffee' 'maize' 'mungbean' 'maize' 'jute' 'watermelon' 'mango'\n",
      " 'kidneybeans' 'kidneybeans' 'mothbeans' 'mango' 'kidneybeans'\n",
      " 'kidneybeans' 'mungbean' 'orange' 'orange' 'coffee' 'muskmelon' 'orange'\n",
      " 'mothbeans' 'lentil' 'banana' 'lentil' 'maize' 'coffee' 'orange'\n",
      " 'blackgram' 'coconut' 'pigeonpeas' 'maize' 'grapes' 'maize' 'rice'\n",
      " 'pigeonpeas' 'mothbeans' 'coffee' 'lentil' 'apple' 'blackgram' 'grapes'\n",
      " 'papaya' 'cotton' 'blackgram' 'papaya' 'maize' 'kidneybeans' 'maize'\n",
      " 'lentil' 'watermelon' 'lentil' 'coconut' 'coconut' 'jute' 'watermelon'\n",
      " 'cotton' 'coffee' 'mungbean' 'kidneybeans' 'pomegranate' 'mungbean'\n",
      " 'grapes' 'maize' 'lentil' 'papaya' 'muskmelon' 'coconut' 'banana'\n",
      " 'watermelon' 'banana' 'grapes' 'rice' 'maize' 'kidneybeans' 'pomegranate'\n",
      " 'apple' 'chickpea' 'mango' 'lentil' 'coffee' 'muskmelon' 'orange'\n",
      " 'lentil' 'chickpea' 'papaya' 'maize' 'pigeonpeas' 'jute' 'rice' 'maize'\n",
      " 'chickpea' 'apple' 'banana' 'lentil' 'mungbean' 'kidneybeans' 'apple'\n",
      " 'pomegranate' 'apple' 'mango' 'grapes' 'coconut' 'muskmelon' 'mungbean'\n",
      " 'pigeonpeas']\n"
     ]
    }
   ],
   "source": [
    "print(target_prediction_1)"
   ]
  },
  {
   "cell_type": "code",
   "execution_count": 40,
   "metadata": {
    "scrolled": true
   },
   "outputs": [
    {
     "name": "stdout",
     "output_type": "stream",
     "text": [
      "['grapes' 'chickpea' 'mango' 'papaya' 'mango' 'mungbean' 'maize' 'cotton'\n",
      " 'apple' 'lentil' 'watermelon' 'rice' 'mungbean' 'cotton' 'rice'\n",
      " 'kidneybeans' 'chickpea' 'lentil' 'kidneybeans' 'cotton' 'coffee'\n",
      " 'muskmelon' 'pigeonpeas' 'mango' 'coconut' 'mothbeans' 'lentil' 'jute'\n",
      " 'apple' 'banana' 'blackgram' 'jute' 'rice' 'watermelon' 'coffee' 'grapes'\n",
      " 'chickpea' 'kidneybeans' 'lentil' 'watermelon' 'watermelon' 'mothbeans'\n",
      " 'watermelon' 'maize' 'cotton' 'grapes' 'watermelon' 'grapes' 'orange'\n",
      " 'kidneybeans' 'mango' 'lentil' 'jute' 'muskmelon' 'banana' 'rice'\n",
      " 'grapes' 'orange' 'papaya' 'pigeonpeas' 'pomegranate' 'coffee' 'chickpea'\n",
      " 'rice' 'mungbean' 'apple' 'lentil' 'kidneybeans' 'mango' 'chickpea'\n",
      " 'mothbeans' 'kidneybeans' 'papaya' 'banana' 'watermelon' 'orange'\n",
      " 'mothbeans' 'jute' 'mango' 'kidneybeans' 'pomegranate' 'pomegranate'\n",
      " 'mango' 'orange' 'kidneybeans' 'apple' 'mungbean' 'pomegranate' 'papaya'\n",
      " 'pigeonpeas' 'apple' 'mango' 'grapes' 'muskmelon' 'mango' 'muskmelon'\n",
      " 'blackgram' 'mango' 'mungbean' 'mango' 'rice' 'apple' 'grapes'\n",
      " 'pomegranate' 'coconut' 'mungbean' 'pomegranate' 'watermelon' 'orange'\n",
      " 'mungbean' 'jute' 'coffee' 'watermelon' 'jute' 'grapes' 'maize' 'grapes'\n",
      " 'pigeonpeas' 'rice' 'coffee' 'coconut' 'mango' 'watermelon' 'coconut'\n",
      " 'orange' 'rice' 'coconut' 'pomegranate' 'muskmelon' 'watermelon' 'cotton'\n",
      " 'papaya' 'lentil' 'cotton' 'coconut' 'apple' 'watermelon' 'blackgram'\n",
      " 'apple' 'papaya' 'maize' 'grapes' 'maize' 'kidneybeans' 'mothbeans'\n",
      " 'cotton' 'jute' 'banana' 'watermelon' 'maize' 'chickpea' 'watermelon'\n",
      " 'lentil' 'mango' 'mothbeans' 'mungbean' 'chickpea' 'lentil' 'pigeonpeas'\n",
      " 'jute' 'rice' 'mothbeans' 'papaya' 'rice' 'orange' 'orange' 'banana'\n",
      " 'coconut' 'mango' 'jute' 'muskmelon' 'pomegranate' 'blackgram' 'apple'\n",
      " 'jute' 'apple' 'grapes' 'watermelon' 'orange' 'lentil' 'watermelon'\n",
      " 'muskmelon' 'kidneybeans' 'blackgram' 'lentil' 'kidneybeans' 'coffee'\n",
      " 'blackgram' 'orange' 'coconut' 'papaya' 'mungbean' 'papaya' 'mango'\n",
      " 'blackgram' 'coffee' 'chickpea' 'mango' 'orange' 'jute' 'orange'\n",
      " 'mungbean' 'cotton' 'grapes' 'muskmelon' 'blackgram' 'coffee' 'banana'\n",
      " 'pigeonpeas' 'mungbean' 'mothbeans' 'muskmelon' 'pomegranate' 'jute'\n",
      " 'orange' 'watermelon' 'pigeonpeas' 'chickpea' 'orange' 'lentil'\n",
      " 'mungbean' 'mothbeans' 'coffee' 'muskmelon' 'kidneybeans' 'lentil' 'jute'\n",
      " 'mungbean' 'jute' 'papaya' 'papaya' 'chickpea' 'pomegranate' 'coconut'\n",
      " 'rice' 'jute' 'lentil' 'mango' 'rice' 'pomegranate' 'pigeonpeas' 'rice'\n",
      " 'mothbeans' 'blackgram' 'blackgram' 'mungbean' 'pigeonpeas' 'jute'\n",
      " 'pigeonpeas' 'kidneybeans' 'lentil' 'maize' 'grapes' 'chickpea'\n",
      " 'mungbean' 'kidneybeans' 'rice' 'kidneybeans' 'grapes' 'grapes' 'orange'\n",
      " 'jute' 'rice' 'kidneybeans' 'rice' 'kidneybeans' 'maize' 'coconut'\n",
      " 'mango' 'apple' 'coffee' 'muskmelon' 'chickpea' 'blackgram' 'watermelon'\n",
      " 'muskmelon' 'banana' 'pomegranate' 'rice' 'pigeonpeas' 'cotton' 'lentil'\n",
      " 'papaya' 'maize' 'kidneybeans' 'apple' 'muskmelon' 'coffee' 'mothbeans'\n",
      " 'blackgram' 'cotton' 'jute' 'maize' 'watermelon' 'pigeonpeas'\n",
      " 'watermelon' 'grapes' 'rice' 'rice' 'lentil' 'orange' 'mango' 'banana'\n",
      " 'kidneybeans' 'mothbeans' 'jute' 'orange' 'cotton' 'kidneybeans'\n",
      " 'blackgram' 'coffee' 'chickpea' 'cotton' 'banana' 'mango' 'kidneybeans'\n",
      " 'coconut' 'apple' 'coconut' 'mango' 'chickpea' 'watermelon' 'mango'\n",
      " 'banana' 'pomegranate' 'muskmelon' 'orange' 'pigeonpeas' 'muskmelon'\n",
      " 'lentil' 'kidneybeans' 'apple' 'pigeonpeas' 'kidneybeans' 'banana'\n",
      " 'papaya' 'coffee' 'maize' 'mungbean' 'maize' 'jute' 'watermelon' 'mango'\n",
      " 'kidneybeans' 'kidneybeans' 'mothbeans' 'mango' 'kidneybeans'\n",
      " 'kidneybeans' 'mungbean' 'orange' 'orange' 'coffee' 'muskmelon' 'orange'\n",
      " 'mothbeans' 'mothbeans' 'banana' 'lentil' 'maize' 'coffee' 'orange'\n",
      " 'blackgram' 'coconut' 'pigeonpeas' 'maize' 'grapes' 'maize' 'rice'\n",
      " 'pigeonpeas' 'mothbeans' 'coffee' 'lentil' 'apple' 'blackgram' 'grapes'\n",
      " 'papaya' 'cotton' 'blackgram' 'papaya' 'maize' 'kidneybeans' 'maize'\n",
      " 'lentil' 'watermelon' 'blackgram' 'coconut' 'coconut' 'jute' 'watermelon'\n",
      " 'cotton' 'coffee' 'mungbean' 'kidneybeans' 'pomegranate' 'mungbean'\n",
      " 'grapes' 'maize' 'mothbeans' 'papaya' 'muskmelon' 'coconut' 'banana'\n",
      " 'watermelon' 'banana' 'grapes' 'rice' 'cotton' 'kidneybeans'\n",
      " 'pomegranate' 'apple' 'chickpea' 'mango' 'lentil' 'coffee' 'muskmelon'\n",
      " 'orange' 'lentil' 'chickpea' 'mothbeans' 'maize' 'pigeonpeas' 'jute'\n",
      " 'rice' 'maize' 'chickpea' 'apple' 'banana' 'mothbeans' 'mungbean'\n",
      " 'kidneybeans' 'apple' 'pomegranate' 'apple' 'mango' 'grapes' 'coconut'\n",
      " 'muskmelon' 'mungbean' 'pigeonpeas']\n"
     ]
    }
   ],
   "source": [
    "print(target_prediction_2)"
   ]
  },
  {
   "cell_type": "code",
   "execution_count": 41,
   "metadata": {},
   "outputs": [],
   "source": [
    "# lets evaluate the Model Performance(interms of accuracy) by KNeighborsClassifier Algorithm\n",
    "from sklearn.metrics import accuracy_score\n",
    "accuracy=accuracy_score(target_prediction_1,test_target)"
   ]
  },
  {
   "cell_type": "code",
   "execution_count": 42,
   "metadata": {},
   "outputs": [
    {
     "name": "stdout",
     "output_type": "stream",
     "text": [
      "0.9727272727272728\n"
     ]
    }
   ],
   "source": [
    "print(accuracy)"
   ]
  },
  {
   "cell_type": "code",
   "execution_count": 43,
   "metadata": {},
   "outputs": [],
   "source": [
    "# lets evaluate the Model Performance(interms of accuracy) by LogisticRegression Algorithm\n",
    "from sklearn.metrics import accuracy_score\n",
    "accuracy=accuracy_score(target_prediction_2,test_target)"
   ]
  },
  {
   "cell_type": "code",
   "execution_count": 44,
   "metadata": {},
   "outputs": [
    {
     "name": "stdout",
     "output_type": "stream",
     "text": [
      "0.9545454545454546\n"
     ]
    }
   ],
   "source": [
    "print(accuracy)"
   ]
  },
  {
   "cell_type": "markdown",
   "metadata": {},
   "source": [
    "## Real time Predictions"
   ]
  },
  {
   "cell_type": "code",
   "execution_count": 45,
   "metadata": {},
   "outputs": [
    {
     "data": {
      "text/html": [
       "<div>\n",
       "<style scoped>\n",
       "    .dataframe tbody tr th:only-of-type {\n",
       "        vertical-align: middle;\n",
       "    }\n",
       "\n",
       "    .dataframe tbody tr th {\n",
       "        vertical-align: top;\n",
       "    }\n",
       "\n",
       "    .dataframe thead th {\n",
       "        text-align: right;\n",
       "    }\n",
       "</style>\n",
       "<table border=\"1\" class=\"dataframe\">\n",
       "  <thead>\n",
       "    <tr style=\"text-align: right;\">\n",
       "      <th></th>\n",
       "      <th>N</th>\n",
       "      <th>P</th>\n",
       "      <th>K</th>\n",
       "      <th>temperature</th>\n",
       "      <th>humidity</th>\n",
       "      <th>ph</th>\n",
       "      <th>rainfall</th>\n",
       "      <th>label</th>\n",
       "    </tr>\n",
       "  </thead>\n",
       "  <tbody>\n",
       "    <tr>\n",
       "      <th>0</th>\n",
       "      <td>90</td>\n",
       "      <td>42</td>\n",
       "      <td>43</td>\n",
       "      <td>20.879744</td>\n",
       "      <td>82.002744</td>\n",
       "      <td>6.502985</td>\n",
       "      <td>202.935536</td>\n",
       "      <td>rice</td>\n",
       "    </tr>\n",
       "    <tr>\n",
       "      <th>1</th>\n",
       "      <td>85</td>\n",
       "      <td>58</td>\n",
       "      <td>41</td>\n",
       "      <td>21.770462</td>\n",
       "      <td>80.319644</td>\n",
       "      <td>7.038096</td>\n",
       "      <td>226.655537</td>\n",
       "      <td>rice</td>\n",
       "    </tr>\n",
       "    <tr>\n",
       "      <th>2</th>\n",
       "      <td>60</td>\n",
       "      <td>55</td>\n",
       "      <td>44</td>\n",
       "      <td>23.004459</td>\n",
       "      <td>82.320763</td>\n",
       "      <td>7.840207</td>\n",
       "      <td>263.964248</td>\n",
       "      <td>rice</td>\n",
       "    </tr>\n",
       "    <tr>\n",
       "      <th>3</th>\n",
       "      <td>74</td>\n",
       "      <td>35</td>\n",
       "      <td>40</td>\n",
       "      <td>26.491096</td>\n",
       "      <td>80.158363</td>\n",
       "      <td>6.980401</td>\n",
       "      <td>242.864034</td>\n",
       "      <td>rice</td>\n",
       "    </tr>\n",
       "    <tr>\n",
       "      <th>4</th>\n",
       "      <td>78</td>\n",
       "      <td>42</td>\n",
       "      <td>42</td>\n",
       "      <td>20.130175</td>\n",
       "      <td>81.604873</td>\n",
       "      <td>7.628473</td>\n",
       "      <td>262.717340</td>\n",
       "      <td>rice</td>\n",
       "    </tr>\n",
       "  </tbody>\n",
       "</table>\n",
       "</div>"
      ],
      "text/plain": [
       "    N   P   K  temperature   humidity        ph    rainfall label\n",
       "0  90  42  43    20.879744  82.002744  6.502985  202.935536  rice\n",
       "1  85  58  41    21.770462  80.319644  7.038096  226.655537  rice\n",
       "2  60  55  44    23.004459  82.320763  7.840207  263.964248  rice\n",
       "3  74  35  40    26.491096  80.158363  6.980401  242.864034  rice\n",
       "4  78  42  42    20.130175  81.604873  7.628473  262.717340  rice"
      ]
     },
     "execution_count": 45,
     "metadata": {},
     "output_type": "execute_result"
    }
   ],
   "source": [
    "data.head()"
   ]
  },
  {
   "cell_type": "code",
   "execution_count": 46,
   "metadata": {},
   "outputs": [
    {
     "name": "stdout",
     "output_type": "stream",
     "text": [
      "The Suggested Crop for Given Climatic Condition is : ['rice']\n"
     ]
    }
   ],
   "source": [
    "# lets test the prediction_model for some random test values\n",
    "prediction=model_1.predict(np.array([[90,41,44,20.9,83,6.7,208]]))\n",
    "\n",
    "print(\"The Suggested Crop for Given Climatic Condition is :\", prediction)"
   ]
  },
  {
   "cell_type": "code",
   "execution_count": 47,
   "metadata": {},
   "outputs": [
    {
     "data": {
      "text/html": [
       "<div>\n",
       "<style scoped>\n",
       "    .dataframe tbody tr th:only-of-type {\n",
       "        vertical-align: middle;\n",
       "    }\n",
       "\n",
       "    .dataframe tbody tr th {\n",
       "        vertical-align: top;\n",
       "    }\n",
       "\n",
       "    .dataframe thead th {\n",
       "        text-align: right;\n",
       "    }\n",
       "</style>\n",
       "<table border=\"1\" class=\"dataframe\">\n",
       "  <thead>\n",
       "    <tr style=\"text-align: right;\">\n",
       "      <th></th>\n",
       "      <th>N</th>\n",
       "      <th>P</th>\n",
       "      <th>K</th>\n",
       "      <th>temperature</th>\n",
       "      <th>humidity</th>\n",
       "      <th>ph</th>\n",
       "      <th>rainfall</th>\n",
       "      <th>label</th>\n",
       "    </tr>\n",
       "  </thead>\n",
       "  <tbody>\n",
       "    <tr>\n",
       "      <th>1595</th>\n",
       "      <td>40</td>\n",
       "      <td>120</td>\n",
       "      <td>197</td>\n",
       "      <td>23.805938</td>\n",
       "      <td>92.488795</td>\n",
       "      <td>5.889481</td>\n",
       "      <td>119.633555</td>\n",
       "      <td>apple</td>\n",
       "    </tr>\n",
       "    <tr>\n",
       "      <th>1596</th>\n",
       "      <td>25</td>\n",
       "      <td>132</td>\n",
       "      <td>198</td>\n",
       "      <td>22.319441</td>\n",
       "      <td>90.851744</td>\n",
       "      <td>5.732758</td>\n",
       "      <td>100.117344</td>\n",
       "      <td>apple</td>\n",
       "    </tr>\n",
       "    <tr>\n",
       "      <th>1597</th>\n",
       "      <td>31</td>\n",
       "      <td>137</td>\n",
       "      <td>196</td>\n",
       "      <td>22.144641</td>\n",
       "      <td>93.825674</td>\n",
       "      <td>6.400321</td>\n",
       "      <td>120.631078</td>\n",
       "      <td>apple</td>\n",
       "    </tr>\n",
       "    <tr>\n",
       "      <th>1598</th>\n",
       "      <td>36</td>\n",
       "      <td>144</td>\n",
       "      <td>196</td>\n",
       "      <td>23.651676</td>\n",
       "      <td>94.505288</td>\n",
       "      <td>6.496934</td>\n",
       "      <td>115.361127</td>\n",
       "      <td>apple</td>\n",
       "    </tr>\n",
       "    <tr>\n",
       "      <th>1599</th>\n",
       "      <td>10</td>\n",
       "      <td>140</td>\n",
       "      <td>197</td>\n",
       "      <td>22.169395</td>\n",
       "      <td>90.271856</td>\n",
       "      <td>6.229499</td>\n",
       "      <td>124.468311</td>\n",
       "      <td>apple</td>\n",
       "    </tr>\n",
       "  </tbody>\n",
       "</table>\n",
       "</div>"
      ],
      "text/plain": [
       "       N    P    K  temperature   humidity        ph    rainfall  label\n",
       "1595  40  120  197    23.805938  92.488795  5.889481  119.633555  apple\n",
       "1596  25  132  198    22.319441  90.851744  5.732758  100.117344  apple\n",
       "1597  31  137  196    22.144641  93.825674  6.400321  120.631078  apple\n",
       "1598  36  144  196    23.651676  94.505288  6.496934  115.361127  apple\n",
       "1599  10  140  197    22.169395  90.271856  6.229499  124.468311  apple"
      ]
     },
     "execution_count": 47,
     "metadata": {},
     "output_type": "execute_result"
    }
   ],
   "source": [
    "data[data['label']=='apple'].tail()"
   ]
  },
  {
   "cell_type": "code",
   "execution_count": 48,
   "metadata": {},
   "outputs": [
    {
     "name": "stdout",
     "output_type": "stream",
     "text": [
      "The Suggested Crop for Given Climatic Condition is : ['apple']\n"
     ]
    }
   ],
   "source": [
    "# lets test the prediction_model for some random test values\n",
    "prediction=model_2.predict(np.array([[26,139,195,21.2,91.2,5.5,111.11]]))\n",
    "\n",
    "print(\"The Suggested Crop for Given Climatic Condition is :\", prediction)"
   ]
  },
  {
   "cell_type": "markdown",
   "metadata": {},
   "source": [
    "### Lets compare classification reports of both models"
   ]
  },
  {
   "cell_type": "code",
   "execution_count": 51,
   "metadata": {},
   "outputs": [
    {
     "name": "stdout",
     "output_type": "stream",
     "text": [
      "              precision    recall  f1-score   support\n",
      "\n",
      "       apple       1.00      1.00      1.00        19\n",
      "      banana       1.00      1.00      1.00        15\n",
      "   blackgram       0.92      0.71      0.80        17\n",
      "    chickpea       1.00      1.00      1.00        17\n",
      "     coconut       1.00      1.00      1.00        17\n",
      "      coffee       1.00      1.00      1.00        18\n",
      "      cotton       1.00      0.87      0.93        15\n",
      "      grapes       1.00      1.00      1.00        21\n",
      "        jute       0.81      0.77      0.79        22\n",
      " kidneybeans       1.00      1.00      1.00        31\n",
      "      lentil       0.91      0.91      0.91        23\n",
      "       maize       0.87      1.00      0.93        20\n",
      "       mango       0.96      1.00      0.98        26\n",
      "   mothbeans       0.81      0.89      0.85        19\n",
      "    mungbean       0.95      1.00      0.98        21\n",
      "   muskmelon       1.00      1.00      1.00        19\n",
      "      orange       1.00      1.00      1.00        23\n",
      "      papaya       0.93      0.88      0.90        16\n",
      "  pigeonpeas       1.00      1.00      1.00        18\n",
      " pomegranate       1.00      1.00      1.00        16\n",
      "        rice       0.87      0.91      0.89        22\n",
      "  watermelon       1.00      1.00      1.00        25\n",
      "\n",
      "    accuracy                           0.95       440\n",
      "   macro avg       0.96      0.95      0.95       440\n",
      "weighted avg       0.96      0.95      0.95       440\n",
      "\n"
     ]
    }
   ],
   "source": [
    "\n",
    "\n",
    "from sklearn.metrics import classification_report\n",
    "accuracy=classification_report(target_prediction_2,test_target)\n",
    "print(accuracy)"
   ]
  },
  {
   "cell_type": "code",
   "execution_count": 52,
   "metadata": {},
   "outputs": [
    {
     "name": "stdout",
     "output_type": "stream",
     "text": [
      "              precision    recall  f1-score   support\n",
      "\n",
      "       apple       1.00      1.00      1.00        19\n",
      "      banana       1.00      1.00      1.00        15\n",
      "   blackgram       1.00      0.87      0.93        15\n",
      "    chickpea       1.00      1.00      1.00        17\n",
      "     coconut       1.00      1.00      1.00        17\n",
      "      coffee       1.00      1.00      1.00        18\n",
      "      cotton       1.00      1.00      1.00        13\n",
      "      grapes       1.00      1.00      1.00        21\n",
      "        jute       0.81      0.85      0.83        20\n",
      " kidneybeans       1.00      1.00      1.00        31\n",
      "      lentil       0.96      0.88      0.92        25\n",
      "       maize       1.00      1.00      1.00        23\n",
      "       mango       1.00      1.00      1.00        27\n",
      "   mothbeans       0.86      1.00      0.92        18\n",
      "    mungbean       1.00      1.00      1.00        22\n",
      "   muskmelon       1.00      1.00      1.00        19\n",
      "      orange       1.00      1.00      1.00        23\n",
      "      papaya       1.00      1.00      1.00        15\n",
      "  pigeonpeas       0.94      1.00      0.97        17\n",
      " pomegranate       1.00      1.00      1.00        16\n",
      "        rice       0.87      0.83      0.85        24\n",
      "  watermelon       1.00      1.00      1.00        25\n",
      "\n",
      "    accuracy                           0.97       440\n",
      "   macro avg       0.97      0.97      0.97       440\n",
      "weighted avg       0.97      0.97      0.97       440\n",
      "\n"
     ]
    }
   ],
   "source": [
    "from sklearn.metrics import classification_report\n",
    "accuracy=classification_report(target_prediction_1,test_target)\n",
    "print(accuracy)"
   ]
  },
  {
   "cell_type": "code",
   "execution_count": null,
   "metadata": {},
   "outputs": [],
   "source": []
  }
 ],
 "metadata": {
  "kernelspec": {
   "display_name": "Python 3",
   "language": "python",
   "name": "python3"
  },
  "language_info": {
   "codemirror_mode": {
    "name": "ipython",
    "version": 3
   },
   "file_extension": ".py",
   "mimetype": "text/x-python",
   "name": "python",
   "nbconvert_exporter": "python",
   "pygments_lexer": "ipython3",
   "version": "3.9.0"
  }
 },
 "nbformat": 4,
 "nbformat_minor": 4
}
